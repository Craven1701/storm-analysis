{
 "cells": [
  {
   "cell_type": "markdown",
   "metadata": {},
   "source": [
    "# 3D-DAOSTORM 2D / 2D fixed analysis.\n",
    "This notebook explains how to do 2D or 2D fixed analysis using 3D-DAOSTORM.\n",
    "* In 2D fixed fitting we constrain the Gaussian fitting function with a fixed $\\sigma$ value.\n",
    "* In 2D fitting the Gaussian $\\sigma$ can vary, but it is forced to be the same in X and Y."
   ]
  },
  {
   "cell_type": "markdown",
   "metadata": {},
   "source": [
    "### Configuring the directory\n",
    "Create an empty directory somewhere on your computer and tell Python to go to that directory."
   ]
  },
  {
   "cell_type": "code",
   "execution_count": 1,
   "metadata": {},
   "outputs": [
    {
     "name": "stdout",
     "output_type": "stream",
     "text": [
      "/Users/ncc-1701-enterprise/Documents/MERFISH_analysis/Data/storm_analysis/jy_testing\n"
     ]
    }
   ],
   "source": [
    "import os\n",
    "os.chdir(\"/Users/ncc-1701-enterprise/Documents/MERFISH_analysis/Data/storm_analysis/jy_testing/\")\n",
    "print(os.getcwd())"
   ]
  },
  {
   "cell_type": "code",
   "execution_count": 2,
   "metadata": {},
   "outputs": [],
   "source": [
    "import sys\n",
    "sys.path.append('/Users/ncc-1701-enterprise/Documents/MERFISH_analysis/storm-analysis/') #添加当前路径进入PATH变量以实现模块加载"
   ]
  },
  {
   "cell_type": "markdown",
   "metadata": {},
   "source": [
    "Generate sample data for analysis."
   ]
  },
  {
   "cell_type": "code",
   "execution_count": 3,
   "metadata": {},
   "outputs": [
    {
     "name": "stdout",
     "output_type": "stream",
     "text": [
      "/Users/ncc-1701-enterprise/Documents/MERFISH_analysis/Data/storm_analysis/jy_testing\n",
      "Creating parameters file.\n",
      "Creating ground truth localizations.\n",
      "Added 120\n",
      "Creating movie.\n",
      "Frame 0 120 emitters\n",
      "Frame 1 120 emitters\n",
      "Frame 2 120 emitters\n",
      "Frame 3 120 emitters\n",
      "Frame 4 120 emitters\n",
      "Frame 5 120 emitters\n",
      "Frame 6 120 emitters\n",
      "Frame 7 120 emitters\n",
      "Frame 8 120 emitters\n",
      "Frame 9 120 emitters\n"
     ]
    }
   ],
   "source": [
    "import storm_analysis.jupyter_examples.dao3d_2d as dao3d_2d\n",
    "dao3d_2d.configure()"
   ]
  },
  {
   "cell_type": "markdown",
   "metadata": {},
   "source": [
    "### Working with analysis parameters.\n",
    "In this example we'll only adjust `threshold` but other important parameters include `sigma`, `roi_size` and `find_max_radius`."
   ]
  },
  {
   "cell_type": "code",
   "execution_count": 4,
   "metadata": {},
   "outputs": [],
   "source": [
    "import storm_analysis.sa_library.parameters as params\n",
    "daop = params.ParametersDAO().initFromFile(\"example.xml\")"
   ]
  },
  {
   "cell_type": "markdown",
   "metadata": {},
   "source": [
    "Getting help with a parameter:"
   ]
  },
  {
   "cell_type": "code",
   "execution_count": 5,
   "metadata": {
    "scrolled": true
   },
   "outputs": [
    {
     "name": "stdout",
     "output_type": "stream",
     "text": [
      "'threshold' type is float.\n",
      "\n",
      "Threshold for a maximum to considered a peak.\n",
      "\n",
      "This is the threshold for peak finding in units of signal to background. A\n",
      "value of 3 for example corresponds to only selecting peaks with an (estimated)\n",
      "signal to background ratio of 3.\n",
      "\n",
      "You probably want a value of at least 5.\n"
     ]
    }
   ],
   "source": [
    "print(daop.helpAttr(\"threshold\"))"
   ]
  },
  {
   "cell_type": "markdown",
   "metadata": {},
   "source": [
    "Changing or getting a parameter. Here we are setting `max_frame` to 1 so that 3D-DAOSTORM will only analyze the first frame."
   ]
  },
  {
   "cell_type": "code",
   "execution_count": 6,
   "metadata": {},
   "outputs": [
    {
     "name": "stdout",
     "output_type": "stream",
     "text": [
      "max_frame is 1\n"
     ]
    }
   ],
   "source": [
    "daop.changeAttr(\"max_frame\", 1)\n",
    "print(\"max_frame is\", daop.getAttr(\"max_frame\"))"
   ]
  },
  {
   "cell_type": "markdown",
   "metadata": {},
   "source": [
    "Print out all of the available parameters and their current values."
   ]
  },
  {
   "cell_type": "code",
   "execution_count": 7,
   "metadata": {},
   "outputs": [
    {
     "name": "stdout",
     "output_type": "stream",
     "text": [
      "aoi_radius (int) - None\n",
      "background_sigma (float) - 8.0\n",
      "camera_gain (float) - 1.0\n",
      "camera_offset (float) - 100.0\n",
      "convert_to (string) - None\n",
      "cutoff (float) - 0.0\n",
      "d_scale (int) - 2\n",
      "descriptor (string) - 1\n",
      "do_zfit (int) - 0\n",
      "drift_correction (int) - 1\n",
      "fftw_estimate (int) - 0\n",
      "find_max_radius (int) - 5\n",
      "fit_error_model (string) - MLE\n",
      "foreground_sigma (float) - 1.0\n",
      "frame_step (int) - 500\n",
      "iterations (int) - 20\n",
      "max_frame (int) - 1\n",
      "max_gap (int) - None\n",
      "max_z (float) - 0.5\n",
      "min_z (float) - -0.5\n",
      "model (string) - 2d\n",
      "no_fitting (int) - None\n",
      "parameters_file (parameters_filename) - example.xml\n",
      "peak_locations (filename) - None\n",
      "pixel_size (float) - 100.0\n",
      "radius (float) - 0.5\n",
      "roi_size (int) - 9\n",
      "sigma (float) - 1.5\n",
      "sigma_range (float-array) - None\n",
      "start_frame (int) - -1\n",
      "static_background_estimate (int) - None\n",
      "threshold (float) - 6.0\n",
      "verbosity (int) - 1\n",
      "wxA (float) - 0.0\n",
      "wxB (float) - 0.0\n",
      "wxC (float) - 0.0\n",
      "wxD (float) - 0.0\n",
      "wx_c (float) - 150.0\n",
      "wx_d (float) - 400.0\n",
      "wx_wo (float) - 300.0\n",
      "wyA (float) - 0.0\n",
      "wyB (float) - 0.0\n",
      "wyC (float) - 0.0\n",
      "wyD (float) - 0.0\n",
      "wy_c (float) - -150.0\n",
      "wy_d (float) - 400.0\n",
      "wy_wo (float) - 300.0\n",
      "x_center (int) - None\n",
      "x_start (int) - None\n",
      "x_stop (int) - None\n",
      "y_center (int) - None\n",
      "y_start (int) - None\n",
      "y_stop (int) - None\n",
      "z_correction (int) - 0\n",
      "z_step (float) - 0.001\n",
      "z_value (float) - 0.0\n"
     ]
    }
   ],
   "source": [
    "daop.prettyPrint()"
   ]
  },
  {
   "cell_type": "markdown",
   "metadata": {},
   "source": [
    "### Testing analysis parameters."
   ]
  },
  {
   "cell_type": "code",
   "execution_count": 8,
   "metadata": {},
   "outputs": [],
   "source": [
    "import os\n",
    "import storm_analysis.jupyter_examples.overlay_image as overlay_image\n",
    "import storm_analysis.daostorm_3d.mufit_analysis as mfit"
   ]
  },
  {
   "cell_type": "code",
   "execution_count": 9,
   "metadata": {},
   "outputs": [],
   "source": [
    "# For this data-set, no localizations will be found if threshold is above 25.0\n",
    "daop.changeAttr(\"threshold\", 3)\n",
    "\n",
    "daop.changeAttr(\"find_max_radius\", 5) # original value is 5 (pixels)\n",
    "daop.changeAttr(\"roi_size\", 15) # original value is 9 (pixels)\n",
    "daop.changeAttr(\"sigma\", 1.5) # original value is 1.5 (pixels)\n",
    "\n",
    "# Save the changed parameters.\n",
    "#\n",
    "# Using pretty = True will create a more human readable XML file. The default value is False.\n",
    "#\n",
    "daop.toXMLFile(\"testing.xml\", pretty = True)"
   ]
  },
  {
   "cell_type": "markdown",
   "metadata": {},
   "source": [
    "Test 3D-DAOSTORM analysis with these parameters. Ideally it should find 120 localizations in the frame.\n",
    "\n",
    "Note that 3D-DAOSTORM will first check for existing analysis so you have to delete the old analysis after changing parameters."
   ]
  },
  {
   "cell_type": "code",
   "execution_count": 10,
   "metadata": {},
   "outputs": [
    {
     "name": "stdout",
     "output_type": "stream",
     "text": [
      "\n",
      "version 2020.07.01\n",
      "\n",
      "Peak finding\n",
      " Removing values < 1.0 in frame 0\n",
      "Frame: 0 31 31\n",
      "\n",
      "Added 31\n",
      "   7 peak finding iterations.\n",
      "\n",
      "   0 fits reset due to Cholesky failure.\n",
      "   0 fits reset due to image margin.\n",
      "   424 fits reset due to negative value in fit function.\n",
      "   1 fits reset due to negative height.\n",
      "   844 fits reset due to non-decreasing error (LM).\n",
      "   0 fits did not converge.\n",
      "   24 fits were lost.\n",
      "   1 peaks lost to proximity filter.\n",
      "   1 peaks lost to low significance.\n",
      "   5131 fitting iterations.\n",
      "\n",
      "Drift Correction.\n",
      "\n",
      "Tracking.\n",
      " processing frame 0, 0 tracks\n",
      "Added 31 tracks\n",
      "\n",
      "Checking z values.\n",
      " track group 0\n",
      "\n",
      "Analysis complete\n"
     ]
    },
    {
     "data": {
      "image/png": "[encoded data removed]",
      "text/plain": [
       "<Figure size 576x576 with 1 Axes>"
      ]
     },
     "metadata": {
      "needs_background": "light"
     },
     "output_type": "display_data"
    }
   ],
   "source": [
    "if os.path.exists(\"testing.hdf5\"):\n",
    "    os.remove(\"testing.hdf5\")\n",
    "    \n",
    "mfit.analyze(\"rawR5.tiff\", \"testing.hdf5\", \"testing.xml\")\n",
    "overlay_image.overlayImage(\"rawR5.tiff\", \"testing.hdf5\", 0)"
   ]
  },
  {
   "cell_type": "markdown",
   "metadata": {},
   "source": [
    "### Using Visualizer\n",
    "\n",
    "An alternative way to visualize the results is to use the visualizer program. This will only work if you are running jupyter locally."
   ]
  },
  {
   "cell_type": "code",
   "execution_count": 15,
   "metadata": {},
   "outputs": [
    {
     "name": "stdout",
     "output_type": "stream",
     "text": [
      "/Users/ncc-1701-enterprise/Documents/MERFISH_analysis/storm-analysis/storm_analysis/visualizer/\n"
     ]
    }
   ],
   "source": [
    "import inspect\n",
    "import storm_analysis\n",
    "\n",
    "vis_path = os.path.dirname(inspect.getfile(storm_analysis)) + \"/visualizer/\"\n",
    "\n",
    "vis_cmd = vis_path + \"/visualizer.py\"\n",
    "vis_dir = os.getcwd()\n",
    "\n",
    "%run $vis_cmd $vis_dir\n",
    "\n",
    "print(vis_path)"
   ]
  },
  {
   "cell_type": "markdown",
   "metadata": {},
   "source": [
    "### Analyzing the whole movie"
   ]
  },
  {
   "cell_type": "code",
   "execution_count": null,
   "metadata": {},
   "outputs": [],
   "source": [
    "# This tells 3D-DAOSTORM to analyze the whole movie.\n",
    "daop.changeAttr(\"max_frame\", -1)\n",
    "daop.toXMLFile(\"final.xml\")\n",
    "\n",
    "# Delete any stale results.\n",
    "if os.path.exists(\"final.hdf5\"):\n",
    "    os.remove(\"final.hdf5\")\n",
    "    \n",
    "# Run the analysis.\n",
    "mfit.analyze(\"test.tif\", \"final.hdf5\", \"final.xml\")\n"
   ]
  },
  {
   "cell_type": "markdown",
   "metadata": {},
   "source": [
    "### Creating an image from the analysis"
   ]
  },
  {
   "cell_type": "code",
   "execution_count": null,
   "metadata": {},
   "outputs": [],
   "source": [
    "import matplotlib\n",
    "import matplotlib.pyplot as pyplot\n",
    "\n",
    "import storm_analysis.sa_utilities.hdf5_to_image as h5_image\n",
    "\n",
    "sr_im = h5_image.render2DImage(\"final.hdf5\", scale = 1, sigma = 1)\n",
    "\n",
    "fig = pyplot.figure(figsize = (8, 8))\n",
    "ax = fig.add_subplot(1,1,1)\n",
    "ax.imshow(sr_im)\n",
    "ax.set_title(\"SR Image\")\n",
    "\n",
    "pyplot.show()\n"
   ]
  }
 ],
 "metadata": {
  "interpreter": {
   "hash": "871a907eb8790207a5269f47233ac4f4f9b92e71f0bd259fda85fe7a991a3837"
  },
  "kernelspec": {
   "display_name": "Python [conda env:storm_control]",
   "language": "python",
   "name": "conda-env-storm_control-py"
  },
  "language_info": {
   "codemirror_mode": {
    "name": "ipython",
    "version": 3
   },
   "file_extension": ".py",
   "mimetype": "text/x-python",
   "name": "python",
   "nbconvert_exporter": "python",
   "pygments_lexer": "ipython3",
   "version": "3.6.13"
  }
 },
 "nbformat": 4,
 "nbformat_minor": 2
}
